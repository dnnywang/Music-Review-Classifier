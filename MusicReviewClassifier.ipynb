{
 "cells": [
  {
   "cell_type": "code",
   "execution_count": 34,
   "metadata": {},
   "outputs": [
    {
     "name": "stderr",
     "output_type": "stream",
     "text": [
      "[nltk_data] Downloading package punkt to\n",
      "[nltk_data]     C:\\Users\\Dan\\AppData\\Roaming\\nltk_data...\n",
      "[nltk_data]   Unzipping tokenizers\\punkt.zip.\n"
     ]
    }
   ],
   "source": [
    "import pandas as pd\n",
    "import sqlite3\n",
    "import pickle as pk\n",
    "import nltk\n",
    "nltk.download('punkt')\n",
    "\n",
    "from nltk.tokenize import word_tokenize"
   ]
  },
  {
   "attachments": {},
   "cell_type": "markdown",
   "metadata": {},
   "source": [
    "### Aim: To predict the rating of a song review based on the review (categorical)\n",
    "\n",
    "8.5-10 : Amazing\n",
    "5.5-8.5 : Good\n",
    "0-5.5 : Bad\n",
    "\n",
    "\n"
   ]
  },
  {
   "cell_type": "code",
   "execution_count": 35,
   "metadata": {},
   "outputs": [],
   "source": [
    "class Score:\n",
    "    '''\n",
    "    enum class for score labels\n",
    "    '''\n",
    "    AMAZING = \"AMAZING\"\n",
    "    GOOD = \"GOOD\"\n",
    "    ALRIGHT = \"ALRIGHT\"\n",
    "    BAD = \"BAD\"\n",
    "\n",
    "def label_score(score):\n",
    "    '''\n",
    "    takes in a numeric score, and returns the corresponding score label\n",
    "    '''\n",
    "    if score <= 10 and score >= 8.5:\n",
    "        return Score.AMAZING\n",
    "    if score < 8.5 and score >= 5.5:\n",
    "        return Score.GOOD\n",
    "    if score < 5.5:\n",
    "        return Score.BAD\n",
    "\n",
    "def wordRemoval(text, wordList):\n",
    "    '''\n",
    "    removes each word in a provided list from a String\n",
    "    '''\n",
    "    wordsToRemove = wordList\n",
    "    words = word_tokenize(text)\n",
    "    newText = ' '.join([word for word in words if word not in wordsToRemove])\n",
    "\n",
    "    return newText\n",
    "    "
   ]
  },
  {
   "attachments": {},
   "cell_type": "markdown",
   "metadata": {},
   "source": [
    "#### Load File and Add Labels"
   ]
  },
  {
   "cell_type": "code",
   "execution_count": 36,
   "metadata": {},
   "outputs": [],
   "source": [
    "dat = sqlite3.connect('./Music/database.sqlite')\n",
    "\n",
    "data_file = pd.read_sql_query(\"SELECT title, artist, score, genre, year, content FROM reviews JOIN genres ON reviews.reviewid = genres.reviewid JOIN years ON reviews.reviewid = years.reviewid JOIN content ON reviews.reviewid = content.reviewid\", dat)\n",
    "data_file.dropna(how = \"all\")\n",
    "data_file['label'] = data_file['score'].apply(label_score)\n",
    "\n",
    "dat.close()"
   ]
  },
  {
   "attachments": {},
   "cell_type": "markdown",
   "metadata": {},
   "source": [
    "#### Make a dataset with equal amounts of labels"
   ]
  },
  {
   "cell_type": "code",
   "execution_count": 37,
   "metadata": {},
   "outputs": [],
   "source": [
    "data_equalized = pd.DataFrame()\n",
    "\n",
    "data_equalized = pd.concat([data_equalized, data_file.loc[data_file['label'] == 'BAD'][0:2118]])\n",
    "data_equalized = pd.concat([data_equalized, data_file.loc[data_file['label'] == 'GOOD'][0:2118]])\n",
    "data_equalized = pd.concat([data_equalized, data_file.loc[data_file['label'] == 'AMAZING'][0:2118]])"
   ]
  },
  {
   "attachments": {},
   "cell_type": "markdown",
   "metadata": {},
   "source": [
    "### Process \"content\"\n",
    "\n",
    "Remove common words"
   ]
  },
  {
   "cell_type": "code",
   "execution_count": 68,
   "metadata": {},
   "outputs": [],
   "source": [
    "commonWords = pd.Series(' '.join(data_equalized['content']).lower().split()).value_counts()[:15] #get the 15 most common words from reviews\n",
    "wordList = commonWords.index.tolist()\n",
    "\n",
    "data_equalized['content'] = data_equalized['content'].apply(wordRemoval, args = (wordList,))\n"
   ]
  },
  {
   "attachments": {},
   "cell_type": "markdown",
   "metadata": {},
   "source": [
    "#### Data File Stats"
   ]
  },
  {
   "cell_type": "code",
   "execution_count": 63,
   "metadata": {},
   "outputs": [
    {
     "name": "stdout",
     "output_type": "stream",
     "text": [
      "Number of Bad Reviews:  2494\n",
      "Number of Good Reviews:  19021\n",
      "Number of Amazing Reviews:  2118\n",
      "Number of Bad Reviews:  2118\n",
      "Number of Good Reviews:  2118\n",
      "Number of Amazing Reviews:  2118\n"
     ]
    }
   ],
   "source": [
    "\n",
    "print(\"Number of Bad Reviews: \", len(data_file[data_file['label']=='BAD']))\n",
    "print(\"Number of Good Reviews: \", len(data_file[data_file['label']=='GOOD']))\n",
    "print(\"Number of Amazing Reviews: \", len(data_file[data_file['label']=='AMAZING']))\n",
    "\n",
    "print(\"Number of Bad Reviews: \", len(data_equalized[data_equalized['label']=='BAD']))\n",
    "print(\"Number of Good Reviews: \", len(data_equalized[data_equalized['label']=='GOOD']))\n",
    "print(\"Number of Amazing Reviews: \", len(data_equalized[data_equalized['label']=='AMAZING']))"
   ]
  },
  {
   "cell_type": "code",
   "execution_count": 69,
   "metadata": {},
   "outputs": [],
   "source": [
    "# Creating features\n",
    "from sklearn.model_selection import train_test_split\n",
    "\n",
    "training, test = train_test_split(data_equalized, test_size = 0.33, random_state = 42)\n",
    "\n",
    "# define which columns are features\n",
    "feature_cols = ['content']\n",
    "label_cols = ['label']\n",
    "\n",
    "train_x = training.loc[:, feature_cols]\n",
    "test_x = test.loc[:, feature_cols]\n",
    "\n",
    "train_y = training.loc[:, label_cols]\n",
    "test_y = test.loc[:, label_cols]"
   ]
  },
  {
   "attachments": {},
   "cell_type": "markdown",
   "metadata": {},
   "source": [
    "Vectorize reviews"
   ]
  },
  {
   "cell_type": "code",
   "execution_count": 70,
   "metadata": {},
   "outputs": [],
   "source": [
    "from sklearn.feature_extraction.text import TfidfVectorizer\n",
    "\n",
    "vectorizer = TfidfVectorizer() # object used to transform words into vectors\n",
    "train_x_vectors = vectorizer.fit_transform(train_x['content']) # applying the transformation to our training data\n",
    "test_x_vectors = vectorizer.transform(test_x['content']) # we don't want to fit (learn the vocabulary of) the test data"
   ]
  },
  {
   "cell_type": "code",
   "execution_count": 71,
   "metadata": {},
   "outputs": [
    {
     "data": {
      "text/plain": [
       "array(['GOOD'], dtype=object)"
      ]
     },
     "execution_count": 71,
     "metadata": {},
     "output_type": "execute_result"
    }
   ],
   "source": [
    "from sklearn import svm\n",
    "\n",
    "clf_svm = svm.SVC(kernel = 'linear') # define the SVM object\n",
    "\n",
    "clf_svm.fit(train_x_vectors, train_y.values.ravel()) # fit the data (ravel is needed to turn a column vector to a row vector)\n",
    "\n",
    "clf_svm.predict(test_x_vectors[0]) # predict y based on trained data"
   ]
  },
  {
   "attachments": {},
   "cell_type": "markdown",
   "metadata": {},
   "source": [
    "#### Tests and Scores"
   ]
  },
  {
   "cell_type": "code",
   "execution_count": 77,
   "metadata": {},
   "outputs": [
    {
     "data": {
      "text/plain": [
       "array(['GOOD'], dtype=object)"
      ]
     },
     "execution_count": 77,
     "metadata": {},
     "output_type": "execute_result"
    }
   ],
   "source": [
    "custom_reviews = [\"Porter Robinson’s music has often treasured escapism. Whether making ecstatic dance or cinematic pop, the producer has long imagined his work as a portal to other realms, as if, through enough head-spinning drops and intricate synth programming, he could create a better world. His debut full-length album, 2014’s Worlds, was explicitly about the transportive power of fiction, the way that art can take us into an “imaginary universe.” And in the video for his Madeon collaboration “Shelter,” a father creates a bright, beautiful simulation for his daughter to live in while the real world around her crumbles and burns. It’s a sentimental idea, but a powerful one. In a lonely world, who couldn’t use an escape?But seven years of creative blocks, self-doubt, and mental-health struggles have altered Robinson’s perspective. His second album Nurture explores the difficulty of finding fulfillment and plumbs the joyful realization that the world he wanted to create was always right in front of him. The album’s tagline underscores its aims succinctly: “Everything we need is already here.”Robinson sings with a newfound clarity on Nurture, writing directly about his struggles and the ecstatic realizations that have come from hard times. “Look at the Sky,” the first vocal track after an ambient piano-led opener, is a ballad of hard-won optimism. Over the kaleidoscopic chirps of a handful of interlocking synth parts, he sings affirmations, looking ahead to a better future. “Look at the sky, I’m still here,” he sings with quiet confidence. “I’ll be alive next year. I can make something good.”This disposition runs through the record. On “Musician,” Robinson mulls the difficulty of making art during tough times, flickering between despair and reassurance: “I just can't stop, I'm sorry,” he sings, then: “I can feel a new day dawning.” Nurture feels careful to mirror the twists and turns of his headspace. There’s murky, tone-setting ambient pieces (“Lifelike”), blissed-out digital shoegaze (the Totally Enormous Extinct Dinosaurs collaboration “Unfold”), and anxious electronic collages (“dullscythe”) all interspersed between euphoric pop songs like “Get Your Wish” and “Something Comforting.” Even when a song is bright and buoyant, there’s a restlessness beneath, a sense that the feeling he’s describing might only last for a moment—that any solid comfort might just slip through your fingers.Across the record, Robinson distorts, pitch-shifts, and otherwise mutates his vocals, which is meant to add a layer of what he calls “corruption and artificiality” to the songs. The technique introduces a note of lingering doubt into songs about beauty and hope. On the closing track “Trying to Feel Alive,” he emerges from the fog with the realization that struggle gives life its color in the first place. “Maybe I don’t really need to feel satisfied,” he sings. “Maybe it's a gift that I spend all this time just trying to feel alive.”\"]\n",
    "custom_tests = vectorizer.transform(custom_reviews)\n",
    "\n",
    "clf_svm.predict(custom_tests)"
   ]
  },
  {
   "cell_type": "code",
   "execution_count": 72,
   "metadata": {},
   "outputs": [
    {
     "name": "stdout",
     "output_type": "stream",
     "text": [
      "SVM Score 0.8426323319027181\n"
     ]
    }
   ],
   "source": [
    "print('SVM Score:', clf_svm.score(test_x_vectors, test_y)) \n",
    "\n"
   ]
  },
  {
   "cell_type": "code",
   "execution_count": 73,
   "metadata": {},
   "outputs": [
    {
     "name": "stdout",
     "output_type": "stream",
     "text": [
      "SVM Score  [0.83189655 0.82344633 0.         0.87301587]\n"
     ]
    },
    {
     "name": "stderr",
     "output_type": "stream",
     "text": [
      "o:\\anaconda3\\lib\\site-packages\\sklearn\\metrics\\_classification.py:1580: UndefinedMetricWarning: F-score is ill-defined and being set to 0.0 in labels with no true nor predicted samples. Use `zero_division` parameter to control this behavior.\n",
      "  _warn_prf(average, \"true nor predicted\", \"F-score is\", len(true_sum))\n"
     ]
    }
   ],
   "source": [
    "from sklearn.metrics import f1_score\n",
    "\n",
    "print(\"SVM Score:\", f1_score(test_y, clf_svm.predict(test_x_vectors), average = None, labels = [Score.AMAZING, Score.GOOD, Score.BAD]))\n"
   ]
  }
 ],
 "metadata": {
  "kernelspec": {
   "display_name": "Python 3.9.13 ('base')",
   "language": "python",
   "name": "python3"
  },
  "language_info": {
   "codemirror_mode": {
    "name": "ipython",
    "version": 3
   },
   "file_extension": ".py",
   "mimetype": "text/x-python",
   "name": "python",
   "nbconvert_exporter": "python",
   "pygments_lexer": "ipython3",
   "version": "3.9.13 (main, Aug 25 2022, 23:51:50) [MSC v.1916 64 bit (AMD64)]"
  },
  "orig_nbformat": 4,
  "vscode": {
   "interpreter": {
    "hash": "232343d8cb31fd3e78b922bf826134cb20c1b008f95b4df5975b6be1b4ef687d"
   }
  }
 },
 "nbformat": 4,
 "nbformat_minor": 2
}
